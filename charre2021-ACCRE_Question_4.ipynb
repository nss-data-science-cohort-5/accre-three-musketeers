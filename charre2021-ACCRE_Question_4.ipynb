{
 "cells": [
  {
   "cell_type": "markdown",
   "id": "d78b6962",
   "metadata": {},
   "source": [
    "4. Finally, combine the time series information from the two datasets together to see how well correlated heavy job-completion load is with the unresponsiveness, and to see if there is some threshold of job completions per hour that generally results in unresponsiveness."
   ]
  },
  {
   "cell_type": "code",
   "execution_count": null,
   "id": "d0d60185",
   "metadata": {},
   "outputs": [],
   "source": [
    "from datetime import datetime\n",
    "from sqlalchemy import create_engine, select, Table, MetaData\n",
    "import pandas as pd\n",
    "import numpy as np"
   ]
  },
  {
   "cell_type": "code",
   "execution_count": null,
   "id": "e41b96cf",
   "metadata": {},
   "outputs": [],
   "source": [
    "engine = create_engine('sqlite:///data/jobs.db')\n",
    "connection = engine.connect()\n",
    "\n",
    "metadata = MetaData()\n",
    "\n",
    "jobs = Table('jobs', metadata, autoload = True, autoload_with = engine)\n",
    "slurm = Table('slurm', metadata, autoload = True, autoload_with = engine)"
   ]
  },
  {
   "cell_type": "code",
   "execution_count": null,
   "id": "867acf5a",
   "metadata": {},
   "outputs": [],
   "source": []
  }
 ],
 "metadata": {
  "kernelspec": {
   "display_name": "Python 3 (ipykernel)",
   "language": "python",
   "name": "python3"
  },
  "language_info": {
   "codemirror_mode": {
    "name": "ipython",
    "version": 3
   },
   "file_extension": ".py",
   "mimetype": "text/x-python",
   "name": "python",
   "nbconvert_exporter": "python",
   "pygments_lexer": "ipython3",
   "version": "3.8.12"
  }
 },
 "nbformat": 4,
 "nbformat_minor": 5
}
