{
 "cells": [
  {
   "cell_type": "markdown",
   "id": "d78b6962",
   "metadata": {},
   "source": [
    "4. Finally, combine the time series information from the two datasets together to see how well correlated heavy job-completion load is with the unresponsiveness, and to see if there is some threshold of job completions per hour that generally results in unresponsiveness."
   ]
  },
  {
   "cell_type": "code",
   "execution_count": null,
   "id": "d0d60185",
   "metadata": {},
   "outputs": [],
   "source": [
    "from datetime import datetime\n",
    "from sqlalchemy import create_engine, select, Table, MetaData\n",
    "import matplotlib.pyplot as plt\n",
    "import matplotlib.ticker as mtick\n",
    "import matplotlib.dates as mpl_dates\n",
    "import pandas as pd\n",
    "import numpy as np"
   ]
  },
  {
   "cell_type": "code",
   "execution_count": null,
   "id": "e41b96cf",
   "metadata": {},
   "outputs": [],
   "source": [
    "# Initialize SQL engine for pulling down data and reflect tables.\n",
    "engine = create_engine('sqlite:///data/jobs.db')\n",
    "connection = engine.connect()\n",
    "\n",
    "metadata = MetaData()\n",
    "\n",
    "jobs = Table('jobs', metadata, autoload = True, autoload_with = engine)\n",
    "slurm = Table('slurm', metadata, autoload = True, autoload_with = engine)"
   ]
  },
  {
   "cell_type": "code",
   "execution_count": null,
   "id": "867acf5a",
   "metadata": {},
   "outputs": [],
   "source": [
    "# Pull initial columns from database for overlay on top of each other. i.e., jobs vs. unresponsiveness.\n",
    "end_times = pd.read_sql(\"SELECT STRFTIME('%Y-%m-%dT%H:%M:%S', END) AS END FROM jobs\",\n",
    "                        con = connection,\n",
    "                        parse_dates = ['END'])\n",
    "\n",
    "unresponsive = pd.read_sql(\"SELECT UNRESPONSIVE, STRFTIME('%Y-%m-%dT%H:%M:%S', DATETIME) AS DATETIME FROM slurm\", \n",
    "                           con = connection, \n",
    "                           parse_dates = ['DATETIME'])"
   ]
  },
  {
   "cell_type": "code",
   "execution_count": null,
   "id": "71964f26",
   "metadata": {},
   "outputs": [],
   "source": [
    "# Group each set of columns by week and merge on datetime.\n",
    "# Make pd.Grouper consistent on origin.\n",
    "end_times['HOURCOUNT'] = ''\n",
    "end_times = (\n",
    "    end_times.set_index('END').\\\n",
    "    resample('1H').\\\n",
    "    count().\\\n",
    "    reset_index().\\\n",
    "    rename(columns = {'END':'Hour',\n",
    "                     'HOURCOUNT': 'Completions Per Hour'})\n",
    ")"
   ]
  },
  {
   "cell_type": "code",
   "execution_count": null,
   "id": "6f0ffed5",
   "metadata": {},
   "outputs": [],
   "source": [
    "unresponsive = (\n",
    "    unresponsive.set_index('DATETIME').\\\n",
    "    groupby(pd.Grouper(freq = '1H'))['UNRESPONSIVE'].\\\n",
    "    agg(['sum']).\\\n",
    "    reset_index().\\\n",
    "    rename(columns = {'sum':'Unresponsive Counts',\n",
    "                     'DATETIME':'Hour'}))"
   ]
  },
  {
   "cell_type": "code",
   "execution_count": null,
   "id": "2686c6fc",
   "metadata": {},
   "outputs": [],
   "source": [
    "unending = end_times.merge(unresponsive, on = 'Hour')"
   ]
  },
  {
   "cell_type": "code",
   "execution_count": null,
   "id": "2dd34f26",
   "metadata": {},
   "outputs": [],
   "source": [
    "# Plot hexbin chart showing negative correlation between Completions Per Hour and Unresponsive Counts.\n",
    "def thousands_commas_please(ax, *args):\n",
    "    if 'x' in args:\n",
    "        ax.get_xaxis().set_major_formatter(mtick.FuncFormatter(lambda x, p: format(int(x), ',')))\n",
    "    if 'y' in args:\n",
    "        ax.get_yaxis().set_major_formatter(mtick.FuncFormatter(lambda x, p: format(int(x), ',')))\n",
    "\n",
    "x = unending['Completions Per Hour']\n",
    "y = unending['Unresponsive Counts']\n",
    "\n",
    "def make_a_hexbin(x, y):\n",
    "    fig, ax = plt.subplots(figsize = (15, 10), dpi = 300, facecolor = 'k')\n",
    "    plt.hexbin(x = x, \n",
    "               y = y, \n",
    "               C = [i.isocalendar()[1] for i in unending['Hour']], \n",
    "               cmap = 'gray')\n",
    "    ax.set_facecolor('k')\n",
    "    ax.set_xlabel('')\n",
    "    ax.xaxis.label.set_color('white')\n",
    "    ax.yaxis.label.set_color('white')\n",
    "    thousands_commas_please(ax, 'x')\n",
    "    ax.tick_params(colors ='white', which = 'both') \n",
    "\n",
    "make_a_hexbin(x,y)"
   ]
  },
  {
   "cell_type": "code",
   "execution_count": null,
   "id": "32797863",
   "metadata": {},
   "outputs": [],
   "source": [
    "# Regroup completions per hour and unresponsive counts by week.\n",
    "column_list = ['Completions Per Hour','Unresponsive Counts']\n",
    "\n",
    "unending_by_week = (\n",
    "    unending.set_index('Hour').\\\n",
    "    groupby(pd.Grouper(freq = 'W'))[column_list].\\\n",
    "    agg(['sum']).\\\n",
    "    reset_index().\\\n",
    "    rename(columns = {'Hour':'Week',\n",
    "                     'Completions Per Hour': 'Completions Per Week'}))"
   ]
  },
  {
   "cell_type": "code",
   "execution_count": null,
   "id": "1b23974f",
   "metadata": {},
   "outputs": [],
   "source": [
    "# Minmax columns for fill between to show difference.\n",
    "unending_by_week['Completions Per Week MinMax'] = (\n",
    "    unending_by_week['Completions Per Week']['sum'].\\\n",
    "    apply(lambda x: (x - unending_by_week['Completions Per Week'].min())/\\\n",
    "         (unending_by_week['Completions Per Week'].max() - \\\n",
    "          unending_by_week['Completions Per Week'].min()))\n",
    ")\n",
    "\n",
    "unending_by_week['Unresponsive Counts MinMax'] = (\n",
    "    unending_by_week['Unresponsive Counts']['sum'].\\\n",
    "    apply(lambda x: (x - unending_by_week['Unresponsive Counts'].min())/\\\n",
    "         (unending_by_week['Unresponsive Counts'].max() - \\\n",
    "          unending_by_week['Unresponsive Counts'].min()))\n",
    ")"
   ]
  },
  {
   "cell_type": "code",
   "execution_count": null,
   "id": "98dd3ed6",
   "metadata": {},
   "outputs": [],
   "source": [
    "# Create fill between plot showing relative difference between completions per week and unresponsive counts.\n",
    "facecolor = 'white'\n",
    "fig, ax = plt.subplots(figsize=(14,8), \n",
    "                       facecolor = facecolor)\n",
    "\n",
    "y1 = unending_by_week['Completions Per Week MinMax']\n",
    "y0 = unending_by_week['Unresponsive Counts MinMax']\n",
    "x = unending_by_week['Week']\n",
    "\n",
    "ax.fill_between(x, y0, y1, facecolor = 'darkcyan', alpha = 0.5)\n",
    "\n",
    "plt.xticks(x, rotation = 75, fontsize = 10)\n",
    "plt.xlabel('Week Ending')\n",
    "plt.ylabel('Difference Between Completions and Unresponsive Counts Per Week')\n",
    "plt.title('Difference Between Completions and Unresponsive Counts Per Week Over Time')\n",
    "ax.xaxis.set_major_formatter(mpl_dates.DateFormatter('%D'));"
   ]
  },
  {
   "cell_type": "code",
   "execution_count": null,
   "id": "c318366e",
   "metadata": {},
   "outputs": [],
   "source": [
    "# Consider importing from the Question 1 Jupyter Notebook.\n",
    "# Pull down SQL columns.\n",
    "vague_memory = pd.read_sql(\"SELECT USEDMEMPERCORE, STRFTIME('%Y-%m-%dT%H:%M:%S', END) AS END FROM jobs\",\n",
    "                           con = connection,\n",
    "                           parse_dates = ['END'])\n",
    "\n",
    "# Group total and standard deviation of used memory per core per hour and save as a dataframe.\n",
    "vague_memory_by_hour = (\n",
    "    vague_memory.set_index('END').\\\n",
    "    groupby(pd.Grouper(freq = '1H'))['USEDMEMPERCORE'].\\\n",
    "    agg(['sum','std']).\\\n",
    "    reset_index().\\\n",
    "    rename(columns = {'END':'Hour',\n",
    "                     'sum':'Total Memory Per Core',\n",
    "                     'std':'Std. Dev. of Total Memory Per Core'}).\\\n",
    "    round())"
   ]
  },
  {
   "cell_type": "code",
   "execution_count": null,
   "id": "44e51253",
   "metadata": {},
   "outputs": [],
   "source": [
    "# Create a hexbin plotting memory variability per hour vs. unresponsive counts.\n",
    "memory_doesnt_respond = vague_memory_by_hour.merge(unending, on = 'Hour')\n",
    "x = memory_doesnt_respond['Std. Dev. of Total Memory Per Core']\n",
    "y = memory_doesnt_respond['Unresponsive Counts']\n",
    "make_a_hexbin(x, y)"
   ]
  }
 ],
 "metadata": {
  "kernelspec": {
   "display_name": "Python 3 (ipykernel)",
   "language": "python",
   "name": "python3"
  },
  "language_info": {
   "codemirror_mode": {
    "name": "ipython",
    "version": 3
   },
   "file_extension": ".py",
   "mimetype": "text/x-python",
   "name": "python",
   "nbconvert_exporter": "python",
   "pygments_lexer": "ipython3",
   "version": "3.8.12"
  }
 },
 "nbformat": 4,
 "nbformat_minor": 5
}
