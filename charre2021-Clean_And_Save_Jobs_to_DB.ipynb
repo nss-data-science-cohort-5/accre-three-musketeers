{
 "cells": [
  {
   "cell_type": "code",
   "execution_count": null,
   "id": "ebc0b99e",
   "metadata": {},
   "outputs": [],
   "source": [
    "import pandas as pd\n",
    "import numpy as np\n",
    "import math\n",
    "import warnings\n",
    "from sqlalchemy import *\n",
    "warnings.filterwarnings('ignore')\n",
    "from tqdm.notebook import tqdm"
   ]
  },
  {
   "cell_type": "code",
   "execution_count": null,
   "id": "fb4e49f5",
   "metadata": {},
   "outputs": [],
   "source": [
    "# Create database/engine for connection.\n",
    "engine = create_engine('sqlite:///data/jobs.db')\n",
    "connection = engine.connect()\n",
    "\n",
    "# Create MetaData object and Table in sqlalchemy.\n",
    "# Table will be used for each df read in chunks.\n",
    "metadata = MetaData()\n",
    "\n",
    "jobs_corrected = Table('jobs_corrected', metadata,\n",
    "                       Column('JOBID', Integer()),\n",
    "                       Column('STATE', String(255)),\n",
    "                       Column('BEGIN', String(255)),\n",
    "                       Column('END', String(255)),\n",
    "                       Column('REQTIME', Float()),\n",
    "                       Column('USEDTIME', Float()),\n",
    "                       Column('EXITCODE', String(255)),\n",
    "                       Column('USEDMEMPERCORE', Float()),\n",
    "                       Column('REQMEMPERCORE', Float()),\n",
    "                       Column('PARTITION', String(255))\n",
    ")\n",
    "\n",
    "metadata.create_all(engine)"
   ]
  },
  {
   "cell_type": "code",
   "execution_count": null,
   "id": "edb517a7",
   "metadata": {},
   "outputs": [],
   "source": [
    "# Create iterator for chunks from csv file.\n",
    "reader = pd.read_csv('data/fullsample-corrected.csv', chunksize = 100000)\n",
    "\n",
    "# Iterate through each chunk and clean it then upload it to the SQL Table.\n",
    "for df in tqdm(reader):\n",
    "    df = df.loc[(df['BEGIN'] != 'Unknown') & (df['END'] != 'Unknown')]\n",
    "    df['BEGIN'] = df['BEGIN'].apply(pd.to_datetime,\n",
    "                                    format = '%Y-%m-%dT%H:%M:%S',\n",
    "                                    errors = 'coerce')\n",
    "    df['END'] = df['END'].apply(pd.to_datetime,\n",
    "                                format = '%Y-%m-%dT%H:%M:%S',\n",
    "                                errors = 'coerce')\n",
    "    df['REQTIME'] = abs(pd.to_timedelta(df['REQTIME']).apply(lambda x: x.total_seconds()))\n",
    "    df['USEDTIME'] = abs(pd.to_timedelta(df['USEDTIME']).apply(lambda x: x.total_seconds()))\n",
    "    df['USEDMEMMEAS'] = df['USEDMEM'].str.extract(r'\\d+([Mnc]*)', expand = True)\n",
    "    df['USEDMEM'] = df['USEDMEM'].str.extract(r'(\\d+)', expand = True).astype('float64')\n",
    "    df['REQMEMMEAS'] = df['REQMEM'].str.extract(r'\\d+([Mnc]*)', expand = True)\n",
    "    df['REQMEM'] = df['REQMEM'].str.extract(r'(\\d+)', expand = True).astype('float64')\n",
    "    df['USEDMEMPERCORE'] = (\n",
    "        np.where((df['USEDMEMMEAS'] == 'Mn')\\\n",
    "                 | (df['USEDMEMMEAS'] == 'M'),\\\n",
    "                 (df['USEDMEM'] * df['NODES'])/(df['CPUS']),\\\n",
    "                 df['USEDMEM'])\n",
    "    )\n",
    "    df['REQMEMPERCORE'] = (\n",
    "        np.where((df['REQMEMMEAS'] == 'Mn')\\\n",
    "                 | (df['REQMEMMEAS'] == 'M'),\\\n",
    "                 (df['REQMEM'] * df['NODES'])/(df['CPUS']),\\\n",
    "                 df['REQMEM'])\n",
    "    )\n",
    "    df['JOBID'] = df['JOBID'].astype('int64')\n",
    "    df = df[['JOBID',\n",
    "             'STATE',\n",
    "             'BEGIN',\n",
    "             'END',\n",
    "             'REQTIME',\n",
    "             'USEDTIME',\n",
    "             'EXITCODE',\n",
    "             'USEDMEMPERCORE',\n",
    "             'REQMEMPERCORE',\n",
    "             'PARTITION']]\n",
    "    df.to_sql(name = 'jobs_corrected', \n",
    "          con = connection, \n",
    "          if_exists = 'append', \n",
    "          index = False)"
   ]
  }
 ],
 "metadata": {
  "kernelspec": {
   "display_name": "Python 3 (ipykernel)",
   "language": "python",
   "name": "python3"
  },
  "language_info": {
   "codemirror_mode": {
    "name": "ipython",
    "version": 3
   },
   "file_extension": ".py",
   "mimetype": "text/x-python",
   "name": "python",
   "nbconvert_exporter": "python",
   "pygments_lexer": "ipython3",
   "version": "3.8.12"
  }
 },
 "nbformat": 4,
 "nbformat_minor": 5
}
