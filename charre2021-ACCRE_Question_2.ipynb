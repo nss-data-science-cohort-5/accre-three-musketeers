{
 "cells": [
  {
   "cell_type": "markdown",
   "id": "2c01198b",
   "metadata": {},
   "source": []
  },
  {
   "cell_type": "code",
   "execution_count": 2,
   "id": "2760b2f6",
   "metadata": {},
   "outputs": [],
   "source": [
    "import pandas as pd\n",
    "import numpy as np\n",
    "import matplotlib.pyplot as plt\n",
    "import matplotlib.ticker as mtick\n",
    "import matplotlib.dates as mpl_dates\n",
    "from sqlalchemy import create_engine, select, Table, MetaData\n",
    "import pylab\n",
    "import seaborn as sns"
   ]
  },
  {
   "cell_type": "code",
   "execution_count": 3,
   "id": "abac94cd",
   "metadata": {},
   "outputs": [],
   "source": [
    "# Reflect table from SQLite database.\n",
    "engine = create_engine('sqlite:///data/jobs.db')\n",
    "connection = engine.connect()\n",
    "metadata = MetaData()\n",
    "jobs = Table('jobs', metadata, autoload = True, autoload_with = engine)"
   ]
  },
  {
   "cell_type": "code",
   "execution_count": null,
   "id": "25374ff4",
   "metadata": {},
   "outputs": [],
   "source": []
  }
 ],
 "metadata": {
  "kernelspec": {
   "display_name": "Python 3 (ipykernel)",
   "language": "python",
   "name": "python3"
  },
  "language_info": {
   "codemirror_mode": {
    "name": "ipython",
    "version": 3
   },
   "file_extension": ".py",
   "mimetype": "text/x-python",
   "name": "python",
   "nbconvert_exporter": "python",
   "pygments_lexer": "ipython3",
   "version": "3.8.12"
  }
 },
 "nbformat": 4,
 "nbformat_minor": 5
}
